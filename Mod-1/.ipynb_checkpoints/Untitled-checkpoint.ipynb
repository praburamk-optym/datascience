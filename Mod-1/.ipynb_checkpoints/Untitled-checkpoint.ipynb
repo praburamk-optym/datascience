{
 "cells": [
  {
   "cell_type": "code",
   "execution_count": null,
   "id": "a8409bd1-096c-41fb-951e-7aa01bb53ca3",
   "metadata": {},
   "outputs": [],
   "source": []
  }
 ],
 "metadata": {
  "kernelspec": {
   "display_name": "Python 3 (ipykernel)",
   "language": "python",
   "name": "python3"
  },
  "language_info": {
   "codemirror_mode": {
    "name": "ipython",
    "version": 3
   },
   "file_extension": ".py",
   "mimetype": "text/x-python",
   "name": "python",
   "nbconvert_exporter": "python",
   "pygments_lexer": "ipython3",
   "version": "3.11.4"
  }
 },
 "nbformat": 4,
 "nbformat_minor": 5
}
